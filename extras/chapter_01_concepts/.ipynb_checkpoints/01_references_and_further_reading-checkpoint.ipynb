{
 "cells": [
  {
   "cell_type": "markdown",
   "metadata": {},
   "source": [
    "***\n",
    "\n",
    "* [Content](../chapter_00_preface/00_00_introduction.ipynb#preface:sec:content)\n",
    "* [Glossary](../chapter_00_preface/00_01_glossary.ipynb#preface:sec:glossary)\n",
    "* [0. Preface](00_00_introduction.ipynb)  \n",
    "    * Previous: [1.1 Concepts 1](01_01_concepts_1.ipynb)\n",
    "    * Next: [1. Concepts: appendix](01_appendix.ipynb)\n",
    "\n",
    "***"
   ]
  },
  {
   "cell_type": "markdown",
   "metadata": {},
   "source": [
    "## 1. Concepts: References and further reading<a id='concepts:sec:references'></a>"
   ]
  },
  {
   "cell_type": "markdown",
   "metadata": {},
   "source": [
    "### 1.A: References<a id='concepts:sec:references1'></a>"
   ]
  },
  {
   "cell_type": "markdown",
   "metadata": {},
   "source": [
    "[<cite data-cite='1981AJ.....86.1791B'>Bosma, A. 1982, AJ, 86, 1791</cite> &#10548;](http://esoads.eso.org/abs/1981AJ.....86.1791B)"
   ]
  },
  {
   "cell_type": "markdown",
   "metadata": {},
   "source": [
    "### 1.B: Further reading<a id='concepts:sec:references2'></a>"
   ]
  },
  {
   "cell_type": "markdown",
   "metadata": {},
   "source": [
    "***\n",
    "* Next: [1. Concepts: appendix](01_appendix.ipynb)"
   ]
  },
  {
   "cell_type": "code",
   "execution_count": null,
   "metadata": {
    "collapsed": true
   },
   "outputs": [],
   "source": []
  }
 ],
 "metadata": {
  "kernelspec": {
   "display_name": "Python 2",
   "language": "python",
   "name": "python2"
  },
  "language_info": {
   "codemirror_mode": {
    "name": "ipython",
    "version": 2
   },
   "file_extension": ".py",
   "mimetype": "text/x-python",
   "name": "python",
   "nbconvert_exporter": "python",
   "pygments_lexer": "ipython2",
   "version": "2.7.6"
  }
 },
 "nbformat": 4,
 "nbformat_minor": 0
}
