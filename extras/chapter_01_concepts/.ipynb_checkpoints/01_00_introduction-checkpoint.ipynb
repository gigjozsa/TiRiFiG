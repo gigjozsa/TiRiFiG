{
 "cells": [
  {
   "cell_type": "markdown",
   "metadata": {},
   "source": [
    "***\n",
    "* [Content](../chapter_00_preface/00_00_introduction.ipynb#preface:sec:content)\n",
    "* [Glossary](../chapter_00_preface/00_01_glossary.ipynb#preface:sec:glossary)\n",
    "* [1. Concepts](01_00_introduction.ipynb)  \n",
    "    * Next: [1.1 Concepts 1](01_01_concepts_1.ipynb)\n",
    "***"
   ]
  },
  {
   "cell_type": "markdown",
   "metadata": {},
   "source": [
    "Import standard modules:"
   ]
  },
  {
   "cell_type": "code",
   "execution_count": null,
   "metadata": {
    "collapsed": false,
    "scrolled": true
   },
   "outputs": [],
   "source": [
    "import numpy as np\n",
    "import matplotlib.pyplot as plt\n",
    "%matplotlib inline\n",
    "from IPython.display import HTML \n",
    "HTML('../style/course.css') #apply general CSS"
   ]
  },
  {
   "cell_type": "markdown",
   "metadata": {},
   "source": [
    "Import section specific modules:"
   ]
  },
  {
   "cell_type": "code",
   "execution_count": null,
   "metadata": {
    "collapsed": true
   },
   "outputs": [],
   "source": [
    "pass"
   ]
  },
  {
   "cell_type": "code",
   "execution_count": null,
   "metadata": {
    "collapsed": true
   },
   "outputs": [],
   "source": [
    "HTML('../style/code_toggle.html')"
   ]
  },
  {
   "cell_type": "markdown",
   "metadata": {},
   "source": [
    "# Chapter 1: Concepts<a id='somename:sec:intro'></a>"
   ]
  },
  {
   "cell_type": "markdown",
   "metadata": {},
   "source": [
    "This chapter introduces the concepts required for tilted-ring modelling."
   ]
  },
  {
   "cell_type": "markdown",
   "metadata": {},
   "source": [
    "#### Chapter Outline"
   ]
  },
  {
   "cell_type": "markdown",
   "metadata": {},
   "source": [
    "<ol start=\"1\">\n",
    "<li>[Concepts](../chapter_01_concepts/01_00_introduction.ipynb)</li>\n",
    "    <ol start=\"1\">\n",
    "        <li>[Concepts 1](../chapter_01_concepts/01_01_concepts_1.ipynb#concepts:sec:concepts_1)</li>\n",
    "            <ol start=\"1\">\n",
    "                <li>[Concepts 1.1](../chapter_01_concepts/01_01_concepts_1.ipynb#concepts:sec:concepts_11)</li>\n",
    "                <li>[Concepts 1.2](../chapter_01_concepts/01_01_concepts_1.ipynb#concepts:sec:concepts_12)</li>\n",
    "            </ol>\n",
    "        <li>[1. Concepts: References and further reading](../chapter_01_concepts/01_references_and_further_reading.ipynb#concepts:sec:references)</li>\n",
    "            <ol start=\"1\">\n",
    "                <li>[1. Concepts: References](../chapter_01_concepts/01_references_and_further_reading.ipynb#concepts:sec:references1')</li>\n",
    "                <li>[1. Concepts: Further reading](../chapter_01_concepts/01_references_and_further_reading.ipynb#concepts:sec:references2)</li>\n",
    "            </ol>\n",
    "        <li>[1. Concepts: Appendix](../chapter_01_concepts/01_appendix.ipynb#concepts:sec:appendix')</li>\n",
    "            <ol start=\"1\">\n",
    "                <li>[1. Concepts: Appendix: Bla](../chapter_01_concepts/01_appendix.ipynb#somename:sec:appendix1')</li>\n",
    "            </ol>\n",
    "    </ol>\n",
    "</ol>"
   ]
  },
  {
   "cell_type": "markdown",
   "metadata": {},
   "source": [
    "### Chapter Editors\n",
    "* Josh (**1.0**, **1.1**)\n",
    "\n",
    "#### Chapter Contributors\n",
    "\n",
    "* Sam (**1.0**, **1.1**)\n"
   ]
  },
  {
   "cell_type": "markdown",
   "metadata": {},
   "source": [
    "***\n",
    "\n",
    "   * Next: [1.1 Somename 2](01_01_somename2.ipynb)\n"
   ]
  }
 ],
 "metadata": {
  "kernelspec": {
   "display_name": "Python 2",
   "language": "python",
   "name": "python2"
  },
  "language_info": {
   "codemirror_mode": {
    "name": "ipython",
    "version": 2
   },
   "file_extension": ".py",
   "mimetype": "text/x-python",
   "name": "python",
   "nbconvert_exporter": "python",
   "pygments_lexer": "ipython2",
   "version": "2.7.6"
  }
 },
 "nbformat": 4,
 "nbformat_minor": 0
}
