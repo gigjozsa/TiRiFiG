{
 "cells": [
  {
   "cell_type": "markdown",
   "metadata": {},
   "source": [
    "***\n",
    "\n",
    "* [Content](../chapter_00_preface/00_00_introduction.ipynb#preface:sec:content)\n",
    "* [Glossary](../chapter_00_preface/00_01_glossary.ipynb#preface:sec:glossary)\n",
    "* [0. Preface](00_00_introduction.ipynb)  \n",
    "    * Previous: [0.2 Editing Guide](00_02_editing_guide.ipynb)\n",
    "    * Next: [0. Preface: References and further reading](00_references_and_further_reading.ipynb)\n",
    "\n",
    "***"
   ]
  },
  {
   "cell_type": "markdown",
   "metadata": {},
   "source": [
    "## 0.2 Editing Guide\n",
    "\n",
    "This is a general guide for section editors to help create a unified editing process.\n",
    "\n",
    "The main goal of the editors is to consider the quality of the content, each editor should consider these questions and hopefully answer them by the end of editing a section.\n",
    "\n",
    "* What is the point of the section?\n",
    "* Is that point clear or could it be presented in a different way?\n",
    "* Are the example useful?\n",
    "* Are there holes or assumptions in the section content which need to be improved?\n",
    "* What could be added or removed to improve the quality of the section?"
   ]
  },
  {
   "cell_type": "markdown",
   "metadata": {},
   "source": [
    "### Comments\n",
    "\n",
    "When editing a section add comments by starting with your initials, and wrap the comment in a css span tag to color the text so that it sticks out, an example is:\n",
    "\n",
    "```\n",
    "<span style=\"background-color:cyan\">GSF:this is the comment text</span>\n",
    "```\n",
    "\n",
    "renders as:\n",
    "\n",
    "<span style=\"background-color:cyan\">GSF: this is the comment text</span>\n",
    "\n",
    "### Spelling and Grammar Correction\n",
    "\n",
    "Please fix any spelling mistakes or minor grammar errors. If a sentence or paragraph is confusing or poorly written, make a note for the author.\n",
    "\n",
    "### Spelling Style\n",
    "\n",
    "Since we all come from different backgrounds on our spelling stylea we need to formalize the text on one style, we will use the [MNRAS style](http://www.oxfordjournals.org/our_journals/mnras/for_authors/#6.2 Spelling, grammar, punctuation and mathematics) which is essentially British English spelling, e.g. colour instead of color, but uses 'z' in most '-ize' ending words. The specific direction taken from the MNRAS style guide:\n",
    "\n",
    "> ##### Punctuation \n",
    "> Hyphens (one dash in LaTeX) should be used for compound adjectives (e.g. low-density gas, least-squares fit, two-component model). This also applies to simple adjectival units (e.g. 1.5-m telescope, 284.5-nm line), but not to complex units or ranges, which could become cumbersome (e.g. 15 km s–1 feature, 100–200 µm observations). Some words (e.g. time-scale) are always hyphenated as part of journal style (see below). \n",
    "> \n",
    "> N-rules (two dashes in LaTeX): these are longer than hyphens and are used (i) to separate key words, (ii) as parentheses (e.g. the results – assuming no temperature gradient – are indicative of …), (iii) to denote a range (e.g. 1.6–2.2 µm), and (iv) to denote the joining of two words (e.g. Kolmogorov–Smirnov test, Herbig–Haro object). \n",
    "> \n",
    "> M-rules (three dashes in TeX/LaTeX) are not used in MNRAS.\n",
    "> \n",
    "> ##### Spelling and grammar \n",
    "> Please use British English spellings – e.g. centre not center, labelled not labeled. For words ending in -ise/yse or -ize follow this style: use -ise/yse for devise, surprise, comprise, revise, exercise, analyse; use -ize for recognize, criticize, minimize, emphasize, organize, ionize, polarize, parametrize (note the spelling of this word in particular). \n",
    "> \n",
    "> ‘None’ is a singular word (none of the stars is a white dwarf), whilst ‘data’ is a plural word (these data show…). \n",
    "> \n",
    "> Miscellaneous journal spellings: acknowledgements, artefact, best-fitting (not best-fit), disc (except computer disk), haloes (not halos), hotspot, none the less, non-linear, on to, time-scale. \n",
    "> \n",
    "> For any other spellings, use whichever version is listed first in the Oxford English Dictionary.\n",
    "\n",
    "### Figures, Equations, and Tables\n",
    "\n",
    "When referencing a figure, equation, or table in the text use Fig. [Number], Eq. [Number], Table [Number].\n",
    "\n",
    "### Section Referencing\n",
    "\n",
    "When referencing a section in the text use the $\\S$ symbol using the notation `$\\S$ [section number]`, e.g. $\\S$ 4.3.1.\n",
    "\n",
    "### Editor/Author Collaboration\n",
    "\n",
    "We leave it to the editors and authors on how best to collaborate on incorporating edits and comments into the text. A suggestion is for the editor to send a pull request to the author's github fork. Once the edits are worked out, the author will then do a pull request to the main github repository.\n",
    "\n",
    "### Editing Attribution\n",
    "\n",
    "At the introduction of each chapter there is a list of chapter writers and editors. Please add your name to the editor's list, include the particular section number which you edited. We need this so we can keep track of who knows about each section. And, we want to give you recognition for your work."
   ]
  },
  {
   "cell_type": "markdown",
   "metadata": {},
   "source": [
    "***\n",
    "   * Next: [0. Preface: References and further reading](00_references.ipynb)\n"
   ]
  }
 ],
 "metadata": {
  "kernelspec": {
   "display_name": "Python 2",
   "language": "python",
   "name": "python2"
  },
  "language_info": {
   "codemirror_mode": {
    "name": "ipython",
    "version": 2
   },
   "file_extension": ".py",
   "mimetype": "text/x-python",
   "name": "python",
   "nbconvert_exporter": "python",
   "pygments_lexer": "ipython2",
   "version": "2.7.6"
  }
 },
 "nbformat": 4,
 "nbformat_minor": 0
}
