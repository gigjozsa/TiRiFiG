{
 "cells": [
  {
   "cell_type": "markdown",
   "metadata": {},
   "source": [
    "***\n",
    "* [Content](../chapter_00_preface/00_00_introduction.ipynb#preface:sec:content)\n",
    "* [Glossary](../chapter_00_preface/00_01_glossary.ipynb#preface:sec:glossary)\n",
    "* [1. Concepts](00_00_introduction.ipynb)  \n",
    "    * Next: [1. Concepts: References and further reading](01_references_and_further_reading.ipynb)\n",
    "***"
   ]
  },
  {
   "cell_type": "markdown",
   "metadata": {},
   "source": [
    "Import standard modules:"
   ]
  },
  {
   "cell_type": "code",
   "execution_count": 1,
   "metadata": {
    "collapsed": false
   },
   "outputs": [
    {
     "data": {
      "text/html": [
       "<style>\n",
       "\n",
       "p.prerequisites {\n",
       "    border:5px;\n",
       "    border-style:none;\n",
       "    background-color:#F0F0F0;\n",
       "    box-shadow: 5px 5px 2px #888888;\n",
       "    border-color:#FF0000;\n",
       "    padding: 1em;\n",
       "    }\n",
       "\n",
       "p.conclusion {\n",
       "    border:5px;\n",
       "    border-style:none;\n",
       "    background-color:#c8ebca;\n",
       "    box-shadow: 5px 5px 2px #888888;\n",
       "    border-color:#c8ebca;\n",
       "    padding: 1em;\n",
       "    }\n",
       "\n",
       "div.warn {    \n",
       "    background-color: #fcf2f2;\n",
       "    border-color: #dFb5b4;\n",
       "    border-left: 5px solid #dfb5b4;\n",
       "    padding: 0.5em;\n",
       "    }\n",
       "\n",
       "div.advice {    \n",
       "    background-color: #ecf8ed;\n",
       "    border-color: #a2dda5;\n",
       "    border-left: 5px solid #a2dda5;\n",
       "    padding: 0.5em;\n",
       "    }\n",
       "\n",
       "</style>\n",
       "\n"
      ],
      "text/plain": [
       "<IPython.core.display.HTML object>"
      ]
     },
     "execution_count": 1,
     "metadata": {},
     "output_type": "execute_result"
    }
   ],
   "source": [
    "import numpy as np\n",
    "import pyfits\n",
    "from scipy.signal import convolve2d\n",
    "import matplotlib.pyplot as plt\n",
    "%matplotlib inline\n",
    "from IPython.display import HTML \n",
    "HTML('../style/course.css') #apply general CSS"
   ]
  },
  {
   "cell_type": "markdown",
   "metadata": {},
   "source": [
    "Import section specific modules:"
   ]
  },
  {
   "cell_type": "markdown",
   "metadata": {},
   "source": [
    "## 1.1 Concepts 1 <a id='concepts:sec:concepts_1'></a>"
   ]
  },
  {
   "cell_type": "markdown",
   "metadata": {},
   "source": [
    "The concepts explored in the beginning this project have been centered around the following:\n",
    "1. Handling fits files\n",
    "2. Creating a gaussian (convolution kernel)\n",
    "    a. Making a gaussian variable\n",
    "    b. Making a gaussian asymmetric\n",
    "    c. Rotating a gaussian\n",
    "3. Convolution\n",
    "4. Using aplpy to make an image of a dataset\n",
    "5. Visualising a dataset using Karma\n",
    "6. Fitting data using tirific"
   ]
  },
  {
   "cell_type": "markdown",
   "metadata": {},
   "source": [
    "### 1.1.1 Concepts 1.1 <a id='somename:sec:concepts_11'></a>"
   ]
  },
  {
   "cell_type": "markdown",
   "metadata": {
    "collapsed": true
   },
   "source": [
    "Handling Fits Files\n",
    "\n",
    "Fits represents a way of storing scientific images. The file usually consists of a header unit and a data unit. The header constituent of the fits files specifies certain things like the number of data axes, the number of bits and some other wcs coordinates.\n",
    "In python, fits files can be handled through a module named PyFITS. Below illustrates how fits files are handled using PyFITS.\n"
   ]
  },
  {
   "cell_type": "code",
   "execution_count": 2,
   "metadata": {
    "collapsed": true
   },
   "outputs": [],
   "source": [
    "#Read fits file\n",
    "hdu = pyfits.open('/home/samuel/Downloads/n2541_lr.fits') #open\n",
    "header = hdu[0].header #assign content of header to variable header\n",
    "data = hdu[0].data #assign content of data to variable data"
   ]
  },
  {
   "cell_type": "markdown",
   "metadata": {},
   "source": [
    "Convolution and Gaussian Kernel\n",
    "\n",
    "In image processing, convolution plays a vital role there. It can be thought of as producing a third image from two input images; where one is the original image and the other the kernel. In this preliminary phase, I've explored these two concepts using a fits file of dimension (72,170,170). \n",
    "\n",
    "The earlier tasks were to convolve an image with a 2D gaussian of FWHM being 30arcsec. Subsequent tasks required making the gaussian variable, asymmetric and rotating it through an angle.\n",
    "\n",
    "The gaussian function in one dimension is given by\n",
    "\n",
    "$\n",
    "\\large f(x) = e^{-\\frac{x^2}{2\\sigma^2}}\n",
    "$\n",
    "\n",
    "The sigma in the above equation is related to the full width at half maximum (FWHM) such that $FWHM = 2\\sqrt{2ln2} \\sigma \\approx 2.3548 \\sigma$"
   ]
  },
  {
   "cell_type": "code",
   "execution_count": 3,
   "metadata": {
    "collapsed": true
   },
   "outputs": [],
   "source": [
    "#fetch content of CDELT1 header variable and convert pixel value\n",
    "pix_val = abs(header['CDELT1'])\n",
    "fwhmX = 60./(pix_val*3600)\n",
    "fwhmY = 120./(pix_val*3600)\n",
    "fwhm = 30./(pix_val*3600)\n",
    "\n",
    "#converting fwhm to sigma\n",
    "sigmaX = fwhmX/2.35\n",
    "sigmaY = fwhmY/2.35\n",
    "sigma = fwhm/2.35"
   ]
  },
  {
   "cell_type": "markdown",
   "metadata": {},
   "source": [
    "In two dimensions, the gaussian function is given by\n",
    "\n",
    "$\n",
    "\\large f(x) = e^{-\\frac{x^2 + y^2}{2\\sigma^2}}, \\small(\\text{symmetric gaussian})\\\\\n",
    "$ \n",
    "\n",
    "$\n",
    "\\large f(x) = e^{-\\frac{x^2}{\\sigma^2_{x}}+\\frac{y^2}{\\sigma^2_{y}}}, \\small(\\text{asymmetric gaussian})\\\\\n",
    "$ "
   ]
  },
  {
   "cell_type": "markdown",
   "metadata": {},
   "source": [
    "The code below illustrates a 2D gaussian function"
   ]
  },
  {
   "cell_type": "code",
   "execution_count": 4,
   "metadata": {
    "collapsed": true
   },
   "outputs": [],
   "source": [
    "#Symmetric gaussian\n",
    "def syGaussian(size,sigma):\n",
    "    \"\"\"\n",
    "    Make a square gaussian kernel.\n",
    "    size is the length of a side of the square\n",
    "    \n",
    "    \"\"\"\n",
    "    \n",
    "    x = np.arange(0, size, 1, float)\n",
    "    y = x[:,np.newaxis]\n",
    "    \n",
    "    return np.exp(-((x**2 + y**2) / 2*sigma**2))\n",
    "\n",
    "# Asymmetric gaussian\n",
    "def asyGaussian(size,sigmaX, sigmaY):\n",
    "    \n",
    "    x = np.arange(0, size, 1, float)\n",
    "    y = x[:,np.newaxis]\n",
    "    \n",
    "    return np.exp(-((x**2/sigmaX**2) + (y**2/sigmaY**2)))\n"
   ]
  },
  {
   "cell_type": "markdown",
   "metadata": {},
   "source": [
    "Bringing it all together, we have:"
   ]
  },
  {
   "cell_type": "code",
   "execution_count": 5,
   "metadata": {
    "collapsed": true
   },
   "outputs": [],
   "source": [
    "def makeGaussian(size,sigmaX,sigmaY=None):\n",
    "    \n",
    "    x = np.arange(0, size, 1, float)\n",
    "    y = x[:,np.newaxis]\n",
    "    \n",
    "    if sigmaY is None:\n",
    "        return np.exp(-((x**2 + y**2) / 2*sigmaX**2)) # symmetric gaussian\n",
    "    else:\n",
    "        return np.exp(-((x**2/sigmaX**2) + (y**2/sigmaY**2))) # asymmetric gaussian"
   ]
  },
  {
   "cell_type": "markdown",
   "metadata": {},
   "source": [
    "Moving ahead, we want to produce a gaussian whose size is variable such that the gaussian size would be 2x at the point where the gaussian is $10^-7$. In order to produce a variable gaussian, the function had to be inverted to determine the x where the gaussian function is $10^-7$.\n",
    "\n",
    "$e^{-\\frac{x^2 + y^2}{\\sigma^2}} = 10^-7$\n",
    "\n",
    "${-\\frac{x^2 + y^2}{2\\sigma^2}} = ln10^-7$\n",
    "\n",
    "$ x^2 + y^2 = -2\\sigma^2ln10^-7$\n",
    "\n",
    "$ x^2 < -2\\sigma^2ln10^-7$,$\\hspace{1cm} y^2 < -2\\sigma^2ln10^-7$\n",
    "\n",
    "It can thus be deduced from the above that the gaussian size would be: $2*\\sqrt{-2\\sigma^2ln10^-7}$"
   ]
  },
  {
   "cell_type": "code",
   "execution_count": 6,
   "metadata": {
    "collapsed": false
   },
   "outputs": [],
   "source": [
    "#gaussian of variable size\n",
    "def makeVarGaussian(gaussianValue,sigma):\n",
    "    \"\"\" \n",
    "    symmetric gaussian of variable size\n",
    "    Gaussian value is the value of the gaussian which would be used to determine the x (size=2x)\n",
    "    Make a square gaussian kernel.\n",
    "    \n",
    "    \"\"\"\n",
    "    upperLimit = np.sqrt(-2*(sigma**2)*np.log(gaussianValue))\n",
    "    lowerLimit = -np.sqrt(-2*(sigma**2)*np.log(gaussianValue))\n",
    "    \n",
    "    x = np.arange(lowerLimit,2*upperLimit, 1, float)\n",
    "    y = x[:,np.newaxis]\n",
    "    \n",
    "    return np.exp(-((x**2 + y**2) / 2*sigma**2)) # symmetric gaussian"
   ]
  },
  {
   "cell_type": "markdown",
   "metadata": {},
   "source": [
    "To rotate the gaussian (asymmetric), the 2D rotation matrix would be multiplied by the gaussian function.\n",
    "A 2D rotation matrix  R($\\alpha$) is given by\n",
    "\n",
    "$\n",
    "R({\\alpha}) = \n",
    "\\left[\\begin{array}{cc}\n",
    "\\cos{\\alpha} & -\\sin{\\alpha}\\\\\n",
    "\\sin{\\alpha} & \\cos{\\alpha}\\\\\n",
    "\\end{array}\\right]\n",
    "$\n",
    "\n",
    "So the coordinates (x',y') of the point (x,y) after rotation are\n",
    "\n",
    "$x' = xcos{\\alpha} - ysin{\\alpha}$\n",
    "\n",
    "$y' = xsin{\\alpha} + ycos{\\alpha}$\n",
    "\n",
    "Find below the rotation function:\n",
    "\n"
   ]
  },
  {
   "cell_type": "code",
   "execution_count": 7,
   "metadata": {
    "collapsed": true
   },
   "outputs": [],
   "source": [
    "def rotateFunction(x,y,theta):\n",
    "    c, s = np.cos(np.radians(theta)), np.sin(np.radians(theta))\n",
    "    return x*c - y*s, x*s + y*c"
   ]
  },
  {
   "cell_type": "markdown",
   "metadata": {},
   "source": [
    "The way the above function will be applied would be to call the \"rotateFunction\" in the \"makeVarGaussian\" function. By this I mean to imply that the returned function would be $f(x',y')$ instead of $f(x,y)$ where $(x',y')$ are the rotated coordinates $(x,y)$. See below for code."
   ]
  },
  {
   "cell_type": "code",
   "execution_count": 8,
   "metadata": {
    "collapsed": true
   },
   "outputs": [],
   "source": [
    "def makeRotatedGaussian(theta,size,sigmaX,sigmaY):\n",
    "    \"\"\" \n",
    "    Rotated asymmetric gaussian\n",
    "    Make a square gaussian kernel.\n",
    "    fwhm is full-width-half-maximum, which\n",
    "    can be thought of as an effective radius.\n",
    "    \"\"\"\n",
    "    \n",
    "    x = np.arange(0,size, 1, float)\n",
    "    y = x[:,np.newaxis]\n",
    "    \n",
    "    xPrime, yPrime = rotateFunction(x,y,theta)[0],rotateFunction(x,y,theta)[1]\n",
    "    \n",
    "    return np.exp(-((xPrime**2/sigmaX**2) + (yPrime**2/sigmaY**2))) # rotated asymmetric gaussian"
   ]
  },
  {
   "cell_type": "code",
   "execution_count": 9,
   "metadata": {
    "collapsed": false
   },
   "outputs": [
    {
     "data": {
      "image/png": "[encoded data removed]",
      "text/plain": [
       "<matplotlib.figure.Figure at 0x7f5670fd7ed0>"
      ]
     },
     "metadata": {},
     "output_type": "display_data"
    }
   ],
   "source": [
    "def run_test():\n",
    "    \n",
    "    #gaussian kernels\n",
    "    syMap_2d = makeVarGaussian(gaussianValue = 10**-7, sigma=sigma) #variable symmetric gaussian with size 2x where gaussian = 10^-7\n",
    "    asyMap_2d = makeGaussian(size = 5*sigmaX if sigmaX > sigmaY else 5*sigmaY, sigmaX=sigmaX,sigmaY=sigmaY) #asymmetric gaussian\n",
    "    roMap_2d = makeRotatedGaussian(theta=90,size = 5*sigmaX if sigmaX > sigmaY else 5*sigmaY, sigmaX=sigmaX,sigmaY=sigmaY) #rotated asymmetric gaussian \n",
    "    \n",
    "    #images of the separate gaussian kernels\n",
    "    plots=[]\n",
    "    plots.append(syMap_2d);plots.append(asyMap_2d);plots.append(roMap_2d)\n",
    "    plt.figure(figsize=(100,20))\n",
    "    \n",
    "    for i in range(3):\n",
    "        plt.subplot2grid((3,3), (i,0))\n",
    "        plt.imshow(plots[i])\n",
    "        \n",
    "    \n",
    "    whole block is convolving data of fits image with separate gaussian kernels\n",
    "    \n",
    "    data1 = np.zeros((1,data.shape[1],data.shape[2]))\n",
    "    data2 = np.zeros((1,data.shape[1],data.shape[2]))\n",
    "    data3 = np.zeros((1,data.shape[1],data.shape[2]))\n",
    "    \n",
    "    for i in range(len(data)):\n",
    "        conv_map = convolve2d(in1 = data[i], in2 = syMap_2d, mode = 'same')\n",
    "        conv_map = conv_map.reshape((1,data.shape[1],data.shape[2]))\n",
    "        data1 = np.append(data1, conv_map, axis=0)\n",
    "    \n",
    "    for i in range(len(data)):\n",
    "        conv_map = convolve2d(in1 = data[i], in2 = asyMap_2d, mode = 'same')\n",
    "        conv_map = conv_map.reshape((1,data.shape[1],data.shape[2]))\n",
    "        data2 = np.append(data2, conv_map, axis=0)\n",
    "    \n",
    "    for i in range(len(data)):\n",
    "        conv_map = convolve2d(in1 = data[i], in2 = roMap_2d, mode = 'same')\n",
    "        conv_map = conv_map.reshape((1,data.shape[1],data.shape[2]))\n",
    "        data3 = np.append(data3, conv_map, axis=0)\n",
    "    \n",
    "    data1 = np.delete(data1,0,axis=0)\n",
    "    data2 = np.delete(data1,0,axis=0)\n",
    "    data3 = np.delete(data1,0,axis=0)\n",
    "    \n",
    "    pyfits.writeto('/home/samuel/Documents/newFits1.fits',data1,header)\n",
    "    pyfits.writeto('/home/samuel/Documents/newFits2.fits',data2,header)\n",
    "    pyfits.writeto('/home/samuel/Documents/newFits3.fits',data3,header)\n",
    "    \n",
    "run_test()\n",
    "    "
   ]
  },
  {
   "cell_type": "markdown",
   "metadata": {},
   "source": [
    "The images above are the:\n",
    "i) Symmetric gaussian\n",
    "ii) Asymmetric gaussian\n",
    "iii) Rotated asymmetric gaussian"
   ]
  },
  {
   "cell_type": "markdown",
   "metadata": {
    "collapsed": true
   },
   "source": [
    "***\n",
    "\n",
    "* Next: [1. Concepts: References and further reading](01_references_and_further_reading.ipynb)\n"
   ]
  }
 ],
 "metadata": {
  "kernelspec": {
   "display_name": "Python 2",
   "language": "python",
   "name": "python2"
  },
  "language_info": {
   "codemirror_mode": {
    "name": "ipython",
    "version": 2
   },
   "file_extension": ".py",
   "mimetype": "text/x-python",
   "name": "python",
   "nbconvert_exporter": "python",
   "pygments_lexer": "ipython2",
   "version": "2.7.11"
  }
 },
 "nbformat": 4,
 "nbformat_minor": 0
}
