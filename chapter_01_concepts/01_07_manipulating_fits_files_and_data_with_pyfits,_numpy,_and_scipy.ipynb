{
 "cells": [
  {
   "cell_type": "markdown",
   "metadata": {
    "collapsed": true
   },
   "source": [
    "***\n",
    "\n",
    "* [Outline](../0_Introduction/0_introduction.ipynb)\n",
    "* [Glossary](../0_Introduction/1_glossary.ipynb)\n",
    "* [1. Building the Concepts](01_00_introduction.ipynb)  \n",
    "    * Previous: [1.6 Visualising Data Sets with Aplpy](01_06_visualising_data_sets_with_aplpy.ipynb)\n",
    "    * Next: [1.8 Rotations in 2-D and 3-D](01_08_rotations_in_2-D_ and_3-D.ipynb)\n",
    "\n",
    "***"
   ]
  },
  {
   "cell_type": "markdown",
   "metadata": {},
   "source": [
    "Import standard modules:"
   ]
  },
  {
   "cell_type": "code",
   "execution_count": 2,
   "metadata": {
    "collapsed": false
   },
   "outputs": [
    {
     "data": {
      "text/html": [
       "<style>\n",
       "\n",
       "p.prerequisites {\n",
       "    border:5px;\n",
       "    border-style:none;\n",
       "    background-color:#F0F0F0;\n",
       "    box-shadow: 5px 5px 2px #888888;\n",
       "    border-color:#FF0000;\n",
       "    padding: 1em;\n",
       "    }\n",
       "\n",
       "p.conclusion {\n",
       "    border:5px;\n",
       "    border-style:none;\n",
       "    background-color:#c8ebca;\n",
       "    box-shadow: 5px 5px 2px #888888;\n",
       "    border-color:#c8ebca;\n",
       "    padding: 1em;\n",
       "    }\n",
       "\n",
       "div.warn {    \n",
       "    background-color: #fcf2f2;\n",
       "    border-color: #dFb5b4;\n",
       "    border-left: 5px solid #dfb5b4;\n",
       "    padding: 0.5em;\n",
       "    }\n",
       "\n",
       "div.advice {    \n",
       "    background-color: #ecf8ed;\n",
       "    border-color: #a2dda5;\n",
       "    border-left: 5px solid #a2dda5;\n",
       "    padding: 0.5em;\n",
       "    }\n",
       "\n",
       "</style>\n",
       "\n"
      ],
      "text/plain": [
       "<IPython.core.display.HTML object>"
      ]
     },
     "execution_count": 2,
     "metadata": {},
     "output_type": "execute_result"
    }
   ],
   "source": [
    "import numpy as np\n",
    "import matplotlib.pyplot as plt\n",
    "%matplotlib inline\n",
    "from IPython.display import HTML \n",
    "HTML('../style/course.css') #apply general CSS"
   ]
  },
  {
   "cell_type": "markdown",
   "metadata": {},
   "source": [
    "Import section specific modules:"
   ]
  },
  {
   "cell_type": "code",
   "execution_count": 3,
   "metadata": {
    "collapsed": true
   },
   "outputs": [],
   "source": [
    "import gaussian #custom module\n",
    "import pyfits\n",
    "from scipy.signal import convolve2d"
   ]
  },
  {
   "cell_type": "markdown",
   "metadata": {
    "collapsed": true
   },
   "source": [
    "## 1.5 Manipulating Fits Files and Data with PyFITS, Numpy and Scipy"
   ]
  },
  {
   "cell_type": "markdown",
   "metadata": {},
   "source": [
    "The content (header and data units) read from fits files can be modified as desired.\n",
    "In the header unit, existing header attributes can be modified and new header attributes can be added. There also exist other convenient functions that are available in pyfits: append(), info(), writeto(), getval(), setval().\n",
    "The content of the data unit is stored in a numpy array. This allows for us to manipulate the contents just like any other array.\n",
    "\n",
    "The tasks outlined below would be used to illustrate manipulating data unit stored in a numpy array:\n",
    "\n",
    "* Read the file n2541_lr.fits into a numpy array \n",
    "    - Change a pixel to 0.05 and write the data set out in fits format\n",
    "    - Replace all pixel values with 0.\n",
    "    - Replace pixel (30,40,50) with 1\n",
    "* Convolve with a Gaussian of 30'' width\n",
    "* Write out the result and check if the result is correct."
   ]
  },
  {
   "cell_type": "code",
   "execution_count": 4,
   "metadata": {
    "collapsed": false
   },
   "outputs": [
    {
     "data": {
      "image/png": "[encoded data removed]",
      "text/plain": [
       "<matplotlib.figure.Figure at 0x7fb1a0982410>"
      ]
     },
     "metadata": {},
     "output_type": "display_data"
    }
   ],
   "source": [
    "#data unit is read into numpy array\n",
    "data, header = pyfits.getdata('/home/samuel/software/samtirifik-master/chapter_01_concepts/01_data/n2541_lr_in.fits',header=True)\n",
    "\n",
    "#replace pixel (50,50,50) with 0 & write results in fits format\n",
    "data[50,50,50] = 0\n",
    "pyfits.writeto('/home/samuel/software/samtirifik-master/chapter_01_concepts/01_data/newFile50.fits',data,header)\n",
    "\n",
    "#replace all pixel with 0 and pixel (30,40,50) with 1\n",
    "data.fill(0)\n",
    "data[50,40,30]=1.\n",
    "\n",
    "#make gaussian and convolve with 30\" (30\" is default fwhm in symGaussian function)\n",
    "gauss2D = gaussian.symGaussian(20)\n",
    "conv_data = convolve2d(in1 = data[50], in2 = gauss2D, mode = 'same')\n",
    "\n",
    "#write out the results\n",
    "pyfits.writeto('/home/samuel/software/samtirifik-master/chapter_01_concepts/01_data/newFile.fits',conv_data,header)\n",
    "\n",
    "# plot displaying results\n",
    "plots=[]; plots.append(data[50]); plots.append(conv_data)\n",
    "plt.figure(figsize=(100,20))  \n",
    "for i in range(2):\n",
    "    plt.subplot2grid((2,1), (i,0))\n",
    "    plt.imshow(plots[i])\n"
   ]
  },
  {
   "cell_type": "markdown",
   "metadata": {},
   "source": [
    "***\n",
    "\n",
    "* Next: [1.8 Rotations in 2-D and 3-D](01_08_rotations_in_2-D_ and_3-D.ipynb)"
   ]
  }
 ],
 "metadata": {
  "kernelspec": {
   "display_name": "Python 2",
   "language": "python",
   "name": "python2"
  },
  "language_info": {
   "codemirror_mode": {
    "name": "ipython",
    "version": 2
   },
   "file_extension": ".py",
   "mimetype": "text/x-python",
   "name": "python",
   "nbconvert_exporter": "python",
   "pygments_lexer": "ipython2",
   "version": "2.7.11"
  }
 },
 "nbformat": 4,
 "nbformat_minor": 0
}
