{
 "cells": [
  {
   "cell_type": "markdown",
   "metadata": {},
   "source": [
    "***\n",
    "* [Content](../chapter_00_preface/00_00_introduction.ipynb#preface:sec:content)\n",
    "* [Glossary](../chapter_00_preface/00_01_glossary.ipynb#preface:sec:glossary)\n",
    "* [1. Concepts](00_00_introduction.ipynb)  \n",
    "    * Next: [1. Concepts: References and further reading](01_references_and_further_reading.ipynb)\n",
    "***"
   ]
  },
  {
   "cell_type": "markdown",
   "metadata": {},
   "source": [
    "Import standard modules:"
   ]
  },
  {
   "cell_type": "code",
   "execution_count": null,
   "metadata": {
    "collapsed": true
   },
   "outputs": [],
   "source": [
    "import numpy as np\n",
    "import matplotlib.pyplot as plt\n",
    "%matplotlib inline\n",
    "from IPython.display import HTML \n",
    "HTML('../style/course.css') #apply general CSS"
   ]
  },
  {
   "cell_type": "markdown",
   "metadata": {},
   "source": [
    "Import section specific modules:"
   ]
  },
  {
   "cell_type": "code",
   "execution_count": null,
   "metadata": {
    "collapsed": true
   },
   "outputs": [],
   "source": [
    "pass"
   ]
  },
  {
   "cell_type": "raw",
   "metadata": {},
   "source": [
    "   <ol start=\"1\">\n",
    "        <li>[Concepts 1](#concepts:sec:concepts_1)</li>\n",
    "            <ol start=\"1\">\n",
    "                <li>[Concepts 1.1](#concepts:sec:concepts_11)</li>\n",
    "                <li>[Concepts 1.2](#concepts:sec:concepts_12)</li>\n",
    "            </ol>\n",
    "    </ol>"
   ]
  },
  {
   "cell_type": "markdown",
   "metadata": {},
   "source": [
    "## 1.1 Concepts 1 <a id='concepts:sec:concepts_1'></a>"
   ]
  },
  {
   "cell_type": "raw",
   "metadata": {},
   "source": [
    "The concepts explored in the beginning this project have been centered around the following:\n",
    "1. Handling fits files\n",
    "2. Creating a gaussian (convolution kernel)\n",
    "    a. Making a gaussian variable\n",
    "    b. Making a gaussian asymmetric\n",
    "    c. Rotating a gaussian\n",
    "3. Convolution\n",
    "4. Using aplpy to make an image of a dataset\n",
    "5. Visualising a dataset using Karma\n",
    "6. Fitting data using tirific"
   ]
  },
  {
   "cell_type": "markdown",
   "metadata": {},
   "source": [
    "### 1.1.1 Concepts 1.1 <a id='somename:sec:concepts_11'></a>"
   ]
  },
  {
   "cell_type": "raw",
   "metadata": {},
   "source": [
    "Convolution and Gaussian Kernel\n",
    "\n",
    "In image processing, convolution plays a vital role there. It can be thought of as producing a third image from an two input images; where one is the original image and the other the kernel. In this preliminary phase, I've explored these two concepts using a fits file of dimension (72,170,170). \n",
    "\n",
    "The earlier tasks were to convolve an image with a 2D gaussian of FWHM being 30arcsec. Subsequent tasks required making the gaussian variable, asymmetric and rotating it through an angle.\n",
    "\n",
    "The gaussian formula used in the computation is given as \n",
    "\n",
    "$$\n",
    "f(x) = e^{-4ln2\\frac{x^2 + y^2}{2fwhm^2}}, (\\text{symmetric gaussian})\\\\\n",
    "$$ \n",
    "\n",
    "$$\n",
    "f(x) = e^{-4ln2\\frac{x^2}{fwhmX^2}+\\frac{y^2}{fwhmY^2}}, (\\text{asymmetric gaussian})\\\\\n",
    "$$ "
   ]
  },
  {
   "cell_type": "markdown",
   "metadata": {},
   "source": [
    "The script below illustrates functions written to illustrate the exercise done by far:"
   ]
  },
  {
   "cell_type": "code",
   "execution_count": null,
   "metadata": {
    "collapsed": true
   },
   "outputs": [],
   "source": [
    "import numpy as np\n",
    "import pyfits\n",
    "from scipy.signal import convolve2d\n",
    "\n",
    "\n",
    "def makeGaussian(size, fwhm=3):\n",
    "    \"\"\" Make a square gaussian kernel (symmetric).\n",
    "    size is the length of a side of the square\n",
    "    fwhm is full-width-half-maximum, which\n",
    "    can be thought of as an effective radius.\n",
    "    \"\"\"\n",
    "\n",
    "    x = np.arange(0, size, 1, float)\n",
    "    y = x[:,np.newaxis]\n",
    "    \n",
    "    return np.exp(-4*np.log(2) * (x**2 + y**2) / 2*fwhm**2)\n",
    "\n",
    "def makeGaussianX(size, fwhmX=3, fwhmY=3):\n",
    "    \"\"\" Make a square gaussian kernel (asymmetric).\n",
    "    size is the length of a side of the square\n",
    "    fwhm is full-width-half-maximum, which\n",
    "    can be thought of as an effective radius.\n",
    "    \"\"\"\n",
    "    x = np.arange(0, size, 1, float)\n",
    "    y = x[:,np.newaxis]\n",
    "    \n",
    "    return np.exp(-4*np.log(2) * ((x**2/(fwhmX**2)) + (y**2/(fwhmY**2))))\n"
   ]
  },
  {
   "cell_type": "markdown",
   "metadata": {},
   "source": [
    "In order to produce a variable gaussian, the function had to be inverted to determine the x where the gaussian function is 1/10000000. The size of the gaussian now becomes 2x. The returned value can be passed as a size parameter to the makeGaussian function.\n",
    "\n",
    "$$e^{-\\frac{x^2 + y^2}{2fwhm^2}} = 10^-7$$\n",
    "\n",
    "$${-\\frac{x^2 + y^2}{2fwhm^2}} = ln10^-7$$\n",
    "\n",
    "$$ x^2 + y^2 = -2fwhm^2ln10^-7$$\n",
    "\n",
    "$$ x^2 + y^2 = 14fwhm^2ln10$$\n",
    "\n",
    "$$ x^2 < 14fwhm^2ln10$$, $$ y^2 < 14fwhm^2ln10$$"
   ]
  },
  {
   "cell_type": "code",
   "execution_count": null,
   "metadata": {
    "collapsed": true
   },
   "outputs": [],
   "source": [
    "def gaussianSize(fwhm=3):\n",
    "    \n",
    "    upperLimit = np.sqrt(14*(fwhm**2)*np.log(10))\n",
    "    x = np.arange(0, upperLimit, 1, float)\n",
    "    y = x[:,np.newaxis]\n",
    "\n",
    "    for i in range(len(x)):\n",
    "            if ((np.exp(-4*np.log(2) * (x[i]**2 + y[i]**2) / fwhm**2))>= 10**-7):\n",
    "                return x[i]"
   ]
  },
  {
   "cell_type": "markdown",
   "metadata": {},
   "source": [
    "To rotate the asymmetric gaussian, the 2D rotation matrix would be multiplied by the asymmetric gaussian function.\n",
    "A 2D rotation matrix  Rt is given by\n",
    "\n",
    "<a id='math:eq:2_005'></a><!--\\label{math:eq:2_005}-->$$\n",
    "R({\\alpha}) =\n",
    "\\begin{array}{cc}\n",
    "\\cos{\\alpha} & \\sin{\\alpha}\\\\\n",
    "-\\sin{\\alpha} & \\cos{\\alpha}\\\\\n",
    "\\end{array}\n",
    "$$\n",
    "\n",
    "So the coordinates (x',y') of the point (x,y) after rotation are\n",
    "$$x' = xcos{\\alpha} - ysin{\\alpha}$$\n",
    "$$y' = xsin{\\alpha} + ycos{\\alpha}$$\n",
    "\n",
    "Find below the rotation function:\n",
    "\n"
   ]
  },
  {
   "cell_type": "code",
   "execution_count": null,
   "metadata": {
    "collapsed": true
   },
   "outputs": [],
   "source": [
    "def rotateFunction(x,y,alpha):\n",
    "    c, s = np.cos(np.radians(alpha)), np.sin(np.radians(alpha))\n",
    "    return x*s + y*c"
   ]
  },
  {
   "cell_type": "markdown",
   "metadata": {
    "collapsed": true
   },
   "source": [
    "***\n",
    "\n",
    "* Next: [1. Concepts: References and further reading](01_references_and_further_reading.ipynb)\n"
   ]
  }
 ],
 "metadata": {
  "kernelspec": {
   "display_name": "Python 2",
   "language": "python",
   "name": "python2"
  },
  "language_info": {
   "codemirror_mode": {
    "name": "ipython",
    "version": 2
   },
   "file_extension": ".py",
   "mimetype": "text/x-python",
   "name": "python",
   "nbconvert_exporter": "python",
   "pygments_lexer": "ipython2",
   "version": "2.7.11"
  }
 },
 "nbformat": 4,
 "nbformat_minor": 0
}
