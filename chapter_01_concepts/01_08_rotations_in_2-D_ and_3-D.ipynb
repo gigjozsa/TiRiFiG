{
 "cells": [
  {
   "cell_type": "markdown",
   "metadata": {
    "collapsed": true
   },
   "source": [
    "***\n",
    "\n",
    "* [Outline](../0_Introduction/0_introduction.ipynb)\n",
    "* [Glossary](../0_Introduction/1_glossary.ipynb)\n",
    "* [1. Building the Concepts](01_00_introduction.ipynb)  \n",
    "    * Previous: Next: [1.7 Manipulating Fits Files and Data with PyFITS, Numpy and Scipy](01_07_manipulating_fits_files_and_data_with_pyfits,_numpy,_and_scipy.ipynb)\n",
    "    * Next: [1.9 Creating a Gaussian Array](01_09_creating_a_gaussian_array.ipynb)\n",
    "\n",
    "***"
   ]
  },
  {
   "cell_type": "markdown",
   "metadata": {},
   "source": [
    "Import standard modules:"
   ]
  },
  {
   "cell_type": "code",
   "execution_count": 4,
   "metadata": {
    "collapsed": false
   },
   "outputs": [
    {
     "data": {
      "text/html": [
       "<style>\n",
       "\n",
       "p.prerequisites {\n",
       "    border:5px;\n",
       "    border-style:none;\n",
       "    background-color:#F0F0F0;\n",
       "    box-shadow: 5px 5px 2px #888888;\n",
       "    border-color:#FF0000;\n",
       "    padding: 1em;\n",
       "    }\n",
       "\n",
       "p.conclusion {\n",
       "    border:5px;\n",
       "    border-style:none;\n",
       "    background-color:#c8ebca;\n",
       "    box-shadow: 5px 5px 2px #888888;\n",
       "    border-color:#c8ebca;\n",
       "    padding: 1em;\n",
       "    }\n",
       "\n",
       "div.warn {    \n",
       "    background-color: #fcf2f2;\n",
       "    border-color: #dFb5b4;\n",
       "    border-left: 5px solid #dfb5b4;\n",
       "    padding: 0.5em;\n",
       "    }\n",
       "\n",
       "div.advice {    \n",
       "    background-color: #ecf8ed;\n",
       "    border-color: #a2dda5;\n",
       "    border-left: 5px solid #a2dda5;\n",
       "    padding: 0.5em;\n",
       "    }\n",
       "\n",
       "</style>\n",
       "\n"
      ],
      "text/plain": [
       "<IPython.core.display.HTML object>"
      ]
     },
     "execution_count": 4,
     "metadata": {},
     "output_type": "execute_result"
    }
   ],
   "source": [
    "import numpy as np\n",
    "import matplotlib.pyplot as plt\n",
    "%matplotlib inline\n",
    "from IPython.display import HTML \n",
    "HTML('../style/course.css') #apply general CSS"
   ]
  },
  {
   "cell_type": "markdown",
   "metadata": {},
   "source": [
    "Import section specific modules"
   ]
  },
  {
   "cell_type": "code",
   "execution_count": 5,
   "metadata": {
    "collapsed": true
   },
   "outputs": [],
   "source": [
    "pass"
   ]
  },
  {
   "cell_type": "markdown",
   "metadata": {},
   "source": [
    "1. Rotations in 2D and 3D\n",
    "    1. [Rotations in 2-D](#rotations:sec:rotations_in_2D)\n",
    "    2. [Rotations in 3-D](#rotations:sec:rotations_in_3D)"
   ]
  },
  {
   "cell_type": "markdown",
   "metadata": {},
   "source": [
    "## 1.8. Rotations in 2-D and 3-D"
   ]
  },
  {
   "cell_type": "markdown",
   "metadata": {},
   "source": [
    "Rotations are simply transformations in geometry."
   ]
  },
  {
   "cell_type": "markdown",
   "metadata": {
    "collapsed": true
   },
   "source": [
    "### 1.8.1 Rotations in 2-D<a id='rotations:sec:rotations_in_2D'></a><!--\\label{rotations:sec:rotations_in_2D}-->"
   ]
  },
  {
   "cell_type": "markdown",
   "metadata": {},
   "source": [
    "In 2D the point (x,y) to be rotated is represented as a column vector. A rotation matrix, written as\n",
    "$\n",
    "\\left[\\begin{array}{cc}\n",
    "\\cos{\\alpha} & -\\sin{\\alpha}\\\\\n",
    "\\sin{\\alpha} & \\cos{\\alpha}\\\\\n",
    "\\end{array}\\right]\n",
    "$\n",
    "is multiplied with the point through an angle $\\alpha$ in the anti-clockwise direction to produce\n",
    "the coordinate (x',y'). Thus, we have:\n",
    "\n",
    "$\n",
    "\\begin{bmatrix}\n",
    "x'\\\\\n",
    "y'\\\\\n",
    "\\end{bmatrix}\n",
    "$\n",
    "=\n",
    "$\n",
    "\\left[\\begin{array}{cc}\n",
    "\\cos{\\alpha} & -\\sin{\\alpha}\\\\\n",
    "\\sin{\\alpha} & \\cos{\\alpha}\\\\\n",
    "\\end{array}\\right]\n",
    "$\n",
    "$\n",
    "\\begin{bmatrix}\n",
    "x\\\\\n",
    "y\\\\\n",
    "\\end{bmatrix}\n",
    "$\n",
    "\n",
    "The coordinate for the rotated x becomes  $x' = xcos{\\alpha} - ysin{\\alpha}$ and that of y becomes $y' = xsin{\\alpha} + ycos{\\alpha}$\n",
    "\n",
    "Find below an implementation of the rotation function:"
   ]
  },
  {
   "cell_type": "code",
   "execution_count": 3,
   "metadata": {
    "collapsed": true
   },
   "outputs": [],
   "source": [
    "def rotateFunction(x,y,theta):\n",
    "    c, s = np.cos(np.radians(theta)), np.sin(np.radians(theta))\n",
    "    return x*c - y*s, x*s + y*c"
   ]
  },
  {
   "cell_type": "markdown",
   "metadata": {},
   "source": [
    "### 1.8.2 Rotations in 3-D<a id='rotations:sec:rotations_in_3D'></a><!--\\label{rotations:sec:rotations_in_3D}-->"
   ]
  },
  {
   "cell_type": "markdown",
   "metadata": {},
   "source": [
    "Just as in two dimension, the coordinate of a rotated three dimension coordinate is also derived by multiplying a 3x3 rotation matrix with a column vector of size 3x1. The resultant column vector (x',y',z') is the rotated point (x,y,z) on either the x-axis, y-axis or z-axis.\n",
    "Find below the rotation matrices for their respective axes.\n",
    "\n",
    "$\n",
    "R_x({\\alpha}) = \n",
    "\\left[\\begin{array}{cc}\n",
    "1 & 0 & 0\\\\\n",
    "0 & \\cos{\\alpha} & -\\sin{\\alpha}\\\\\n",
    "0 & \\sin{\\alpha} & \\cos{\\alpha}\\\\\n",
    "\\end{array}\\right]\n",
    "$\n",
    "\n",
    "$\n",
    "R_y({\\alpha}) = \n",
    "\\left[\\begin{array}{cc}\n",
    "\\cos{\\alpha} & 0 & \\sin{\\alpha}\\\\\n",
    "0 & 1 & 0\\\\\n",
    "-\\sin{\\alpha} & 0 & \\cos{\\alpha}\\\\\n",
    "\\end{array}\\right]\n",
    "$\n",
    "\n",
    "$\n",
    "R_z({\\alpha}) = \n",
    "\\left[\\begin{array}{cc}\n",
    "\\cos{\\alpha} & -\\sin{\\alpha} & 0\\\\\n",
    "\\sin{\\alpha} & \\cos{\\alpha} & 0\\\\\n",
    "0 & 0 & 1\\\\\n",
    "\\end{array}\\right]\n",
    "$"
   ]
  },
  {
   "cell_type": "markdown",
   "metadata": {},
   "source": [
    "***\n",
    "\n",
    "* Next: [1.9 Creating a Gaussian Array](01_09_creating_a_gaussian_array.ipynb)"
   ]
  }
 ],
 "metadata": {
  "kernelspec": {
   "display_name": "Python 2",
   "language": "python",
   "name": "python2"
  },
  "language_info": {
   "codemirror_mode": {
    "name": "ipython",
    "version": 2
   },
   "file_extension": ".py",
   "mimetype": "text/x-python",
   "name": "python",
   "nbconvert_exporter": "python",
   "pygments_lexer": "ipython2",
   "version": "2.7.11"
  }
 },
 "nbformat": 4,
 "nbformat_minor": 0
}
