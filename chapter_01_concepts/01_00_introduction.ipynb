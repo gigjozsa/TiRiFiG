{
 "cells": [
  {
   "cell_type": "markdown",
   "metadata": {},
   "source": [
    "***\n",
    "* [Content](../chapter_00_preface/00_00_introduction.ipynb#preface:sec:content)\n",
    "* [Glossary](../chapter_00_preface/00_01_glossary.ipynb#preface:sec:glossary)\n",
    "* [1. Concepts](01_00_introduction.ipynb)  \n",
    "    * Next: [1.1 Concepts 1](01_01_concepts_1.ipynb)\n",
    "***"
   ]
  },
  {
   "cell_type": "markdown",
   "metadata": {},
   "source": [
    "Import standard modules:"
   ]
  },
  {
   "cell_type": "code",
   "execution_count": 13,
   "metadata": {
    "collapsed": false,
    "scrolled": true
   },
   "outputs": [
    {
     "data": {
      "text/html": [
       "<style>\n",
       "\n",
       "ol {\n",
       "  list-style-type: decimal;\n",
       "  counter-reset: item;\n",
       "  margin: 0;\n",
       "  padding: 0;\n",
       "}\n",
       "\n",
       "ol > li {\n",
       "  display: table;\n",
       "  counter-increment: item;\n",
       "  margin-bottom: 0.6em;\n",
       "}\n",
       "\n",
       "ol > li:before {\n",
       "  content: counters(item, \".\") \". \";\n",
       "  display: table-cell;\n",
       "  padding-right: 0.6em;    \n",
       "}\n",
       "\n",
       "li ol > li {\n",
       "  margin: 0;\n",
       "}\n",
       "\n",
       "li ol > li:before {\n",
       "  content: counters(item, \".\") \" \";\n",
       "}\n",
       "\n",
       "</style>"
      ],
      "text/plain": [
       "<IPython.core.display.HTML object>"
      ]
     },
     "execution_count": 13,
     "metadata": {},
     "output_type": "execute_result"
    }
   ],
   "source": [
    "import numpy as np\n",
    "import matplotlib.pyplot as plt\n",
    "%matplotlib inline\n",
    "from IPython.display import HTML \n",
    "HTML('../style/course.css') #apply general CSS\n",
    "HTML('../style/listing.css')"
   ]
  },
  {
   "cell_type": "markdown",
   "metadata": {},
   "source": [
    "Import section specific modules:"
   ]
  },
  {
   "cell_type": "code",
   "execution_count": 2,
   "metadata": {
    "collapsed": true
   },
   "outputs": [],
   "source": [
    "pass"
   ]
  },
  {
   "cell_type": "code",
   "execution_count": null,
   "metadata": {
    "collapsed": true
   },
   "outputs": [],
   "source": [
    "HTML('../style/code_toggle.html')"
   ]
  },
  {
   "cell_type": "markdown",
   "metadata": {},
   "source": [
    "# Chapter 1: Concepts<a id='somename:sec:intro'></a>"
   ]
  },
  {
   "cell_type": "markdown",
   "metadata": {},
   "source": [
    "This chapter introduces the concepts required for tilted-ring modelling."
   ]
  },
  {
   "cell_type": "markdown",
   "metadata": {},
   "source": [
    "#### Chapter Outline"
   ]
  },
  {
   "cell_type": "markdown",
   "metadata": {},
   "source": [
    "<ol start=\"1\">\n",
    "    <li>Concepts\n",
    "        <ol>\n",
    "            <li>[Radiointerferometric Data Cubes and Line measurements, Observations of Galaxies](../chapter_01_concepts/01_01_radio_interferometric_data_cubes_and_line_measurements,_observations_of_galaxies.ipynb)</li>\n",
    "            <li>[Visualising a Dataset using Karma](../chapter_01_concepts/01_02_visualising_a_dataset_using_Karma.ipynb)</li>\n",
    "            <li>[Fitting Observations of Rotating Discs using TiRiFiC](../chapter_01_concepts/01_03_fitting_observations_of_rotating_discs_using_tirific.ipynb)</li>\n",
    "            <li>[Reading and Writing Fits Files with PyFITS, Numpy, and Scipy](../chapter_01_concepts/01_04_reading_and_writing_fits_files_with_pyfits,_numpy,_and_scipy.ipynb)\n",
    "                        <ol>\n",
    "                            <li>[Reading Fits Files](../chapter_01_concepts/01_04_reading_and_writing_fits_files_with_pyfits,_numpy,_and_scipy.ipynb#fitsFiles:sec:reading_fits_files)</li>\n",
    "                            <li>[Writing Fits Files](../chapter_01_concepts/01_04_reading_and_writing_fits_files_with_pyfits,_numpy,_and_scipy.ipynb#fitsFiles:sec:writing_fits_files)</li>\n",
    "                        </ol>\n",
    "              </li>\n",
    "                    <li>[Visualising Numpy Arrays with Matplotlib](../chapter_01_concepts/01_05_visualising_numpy_arrays_with_matplotlib.ipynb)</li>\n",
    "                    <li>[Visualising Data Sets with Aplpy](../chapter_01_concepts/01_06_visualising_data_sets_with_aplpy.ipynb)</li>\n",
    "                    <li>[Manipulating Fits Files and Data with PyFITS, Numpy, and Scipy](../chapter_01_concepts/01_07_manipulating_fits_files_and_data_with_pyfits,_numpy,_and_scipy.ipynb)</li>\n",
    "                    <li>[Rotations in 2-D and 3-D](../chapter_01_concepts/01_08_rotations_in_2-D_ and_3-D.ipynb)\n",
    "                        <ol>\n",
    "                            <li>[Rotations in 2-D](../chapter_01_concepts/01_08_rotations_in_2-D_ and_3-D.ipynb#rotations:sec:rotations_in_2D)</li>\n",
    "                            <li>[Rotations in 3-D](../chapter_01_concepts/01_08_rotations_in_2-D_ and_3-D.ipynb#rotations:sec:rotations_in_3D)</li>\n",
    "                        </ol>\n",
    "                    </li>\n",
    "                    <li>[Creating a Gaussian Array](../chapter_01_concepts/01_09_creating_a_gaussian_array.ipynb)\n",
    "                        <ol>\n",
    "                            <li>[Mathematical Groundwork](../chapter_01_concepts/01_09_creating_a_gaussian_array.ipynb#gaussianArray:sec:mathematical_groundwork)</li>\n",
    "                            <li>\n",
    "                                <ol>\n",
    "                                    <li>[Creating a Gaussian with Variable](../chapter_01_concepts/01_09_creating_a_gaussian_array.ipynb#gaussianArray:sec:variable_gaussian)</li>\n",
    "                                    <li>[Making a Gaussian Asymmetric](../chapter_01_concepts/01_09_creating_a_gaussian_array.ipynb#gaussianArray:sec:asymmetric_gaussian)</li>\n",
    "                                    <li>[Rotating a Gaussian](../chapter_01_concepts/01_09_creating_a_gaussian_array.ipynb#gaussianArray:sec:rotating_gaussian)</li>\n",
    "                                </ol>\n",
    "                            </li>\n",
    "                        </ol>\n",
    "                    </li>\n",
    "                    <li>[Convolution](../chapter_01_concepts/01_10_convolution.ipynb)\n",
    "                        <ol>\n",
    "                            <li>[Convolution with a Gaussian](../chapter_01_concepts/01_10_convolution.ipynb#concepts:sec:convolution_with_a_gaussian)</li>\n",
    "                            <li>[Convolution with an external image or cube](../chapter_01_concepts/01_10_convolution.ipynb#concepts:sec:convolution_with_an_external_image_or_cube)</li>\n",
    "                        </ol>\n",
    "                    </li>\n",
    "                    <li>[Creating a Face-on Ring](../chapter_01_concepts/01_11_creating_a_face-on_ring.ipynb)</li>\n",
    "                    <li>[Concepts: References and Further Reading](../chapter_01_concepts/01_references_and_further_reading.ipynb#concepts:sec:references_and_further_reading)\n",
    "                        <ol>\n",
    "                            <li>[Concepts: References](../chapter_01_concepts/01_references_and_further_reading.ipynb#concepts:sec:references)</li>\n",
    "                            <li>[Concepts: Further reading](../chapter_01_concepts/01_references_and_further_reading.ipynb#concepts:sec:further_reading)</li>\n",
    "                        </ol>\n",
    "                    </li>\n",
    "        </ol>\n",
    "    </li>\n",
    "</ol>\n"
   ]
  },
  {
   "cell_type": "markdown",
   "metadata": {},
   "source": [
    "### Chapter Editors\n",
    "* Josh (**1.0**, **1.1**, **1.2**, **1.3**, **1.4**, **1.5**, **1.6**, **1.7**, **1.8**, **1.9**, **1.10**, **1.11**)\n",
    "\n",
    "#### Chapter Contributors\n",
    "\n",
    "* Sam (**1.0**, **1.1**, **1.2**, **1.3**, **1.4**, **1.5**, **1.6**, **1.7**, **1.8**, **1.9**, **1.10**, **1.11**)\n"
   ]
  },
  {
   "cell_type": "markdown",
   "metadata": {},
   "source": [
    "***\n",
    "\n",
    "   * Next: [1.1 Radio Interferometric Data Cubes and Line Measurements, Observations of Galaxies](01_01_radio_interferometric_data_cubes_and_line_measurements,_observations_of_galaxies.ipynb)\n"
   ]
  }
 ],
 "metadata": {
  "kernelspec": {
   "display_name": "Python 2",
   "language": "python",
   "name": "python2"
  },
  "language_info": {
   "codemirror_mode": {
    "name": "ipython",
    "version": 2
   },
   "file_extension": ".py",
   "mimetype": "text/x-python",
   "name": "python",
   "nbconvert_exporter": "python",
   "pygments_lexer": "ipython2",
   "version": "2.7.11"
  }
 },
 "nbformat": 4,
 "nbformat_minor": 0
}
